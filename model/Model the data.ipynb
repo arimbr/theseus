{
 "cells": [
  {
   "cell_type": "markdown",
   "metadata": {},
   "source": [
    "## Trying PySpark for data mining"
   ]
  },
  {
   "cell_type": "markdown",
   "metadata": {},
   "source": [
    "We need to decide what is the schema of the data and then transform the data to that schema. For that, we will iterate over all the thesis metadata, see if they match the schema, try to format it and if not possible then return a code that tells us which field didn't match the schema."
   ]
  },
  {
   "cell_type": "code",
   "execution_count": 2,
   "metadata": {
    "collapsed": false
   },
   "outputs": [],
   "source": [
    "THESES_FILE = '../data/theseus_clean.jl'"
   ]
  },
  {
   "cell_type": "code",
   "execution_count": 3,
   "metadata": {
    "collapsed": false
   },
   "outputs": [],
   "source": [
    "# Resilient Distributed Dataset\n",
    "rdd = sc.textFile(THESES_FILE)"
   ]
  },
  {
   "cell_type": "code",
   "execution_count": 4,
   "metadata": {
    "collapsed": false
   },
   "outputs": [
    {
     "name": "stderr",
     "output_type": "stream",
     "text": [
      "/opt/spark-1.6.1/python/pyspark/sql/context.py:478: UserWarning: jsonFile is deprecated. Use read.json() instead.\n",
      "  warnings.warn(\"jsonFile is deprecated. Use read.json() instead.\")\n"
     ]
    }
   ],
   "source": [
    "# Data Frame\n",
    "df = sqlContext.jsonFile(THESES_FILE)"
   ]
  },
  {
   "cell_type": "code",
   "execution_count": 5,
   "metadata": {
    "collapsed": false
   },
   "outputs": [
    {
     "name": "stdout",
     "output_type": "stream",
     "text": [
      "root\n",
      " |-- abstract_en: array (nullable = true)\n",
      " |    |-- element: string (containsNull = true)\n",
      " |-- abstract_fi: array (nullable = true)\n",
      " |    |-- element: string (containsNull = true)\n",
      " |-- abstract_sv: array (nullable = true)\n",
      " |    |-- element: string (containsNull = true)\n",
      " |-- authors: array (nullable = true)\n",
      " |    |-- element: string (containsNull = true)\n",
      " |-- collections: array (nullable = true)\n",
      " |    |-- element: string (containsNull = true)\n",
      " |-- date: array (nullable = true)\n",
      " |    |-- element: string (containsNull = true)\n",
      " |-- documents_url: array (nullable = true)\n",
      " |    |-- element: string (containsNull = true)\n",
      " |-- identifier: array (nullable = true)\n",
      " |    |-- element: string (containsNull = true)\n",
      " |-- keywords: array (nullable = true)\n",
      " |    |-- element: string (containsNull = true)\n",
      " |-- language: array (nullable = true)\n",
      " |    |-- element: string (containsNull = true)\n",
      " |-- organization: array (nullable = true)\n",
      " |    |-- element: string (containsNull = true)\n",
      " |-- orientation: array (nullable = true)\n",
      " |    |-- element: string (containsNull = true)\n",
      " |-- programme: array (nullable = true)\n",
      " |    |-- element: string (containsNull = true)\n",
      " |-- subjects: array (nullable = true)\n",
      " |    |-- element: string (containsNull = true)\n",
      " |-- titles: array (nullable = true)\n",
      " |    |-- element: string (containsNull = true)\n",
      " |-- url: array (nullable = true)\n",
      " |    |-- element: string (containsNull = true)\n",
      " |-- year: array (nullable = true)\n",
      " |    |-- element: string (containsNull = true)\n",
      "\n"
     ]
    }
   ],
   "source": [
    "# Print the schema\n",
    "df.printSchema()"
   ]
  },
  {
   "cell_type": "code",
   "execution_count": 6,
   "metadata": {
    "collapsed": false
   },
   "outputs": [
    {
     "data": {
      "text/plain": [
       "99738"
      ]
     },
     "execution_count": 6,
     "metadata": {},
     "output_type": "execute_result"
    }
   ],
   "source": [
    "df.count()"
   ]
  },
  {
   "cell_type": "markdown",
   "metadata": {},
   "source": [
    "## keywords"
   ]
  },
  {
   "cell_type": "code",
   "execution_count": 7,
   "metadata": {
    "collapsed": false
   },
   "outputs": [
    {
     "data": {
      "text/plain": [
       "[(u'markkinointi', 1252),\n",
       " (u'asiakastyytyv\\xe4isyys', 1202),\n",
       " (u'kehitt\\xe4minen', 1158),\n",
       " (u'ty\\xf6hyvinvointi', 1037),\n",
       " (u'varhaiskasvatus', 1036),\n",
       " (u'laatu', 986),\n",
       " (u'sosiaalinen media', 967),\n",
       " (u'nuoret', 948),\n",
       " (u'osallisuus', 926),\n",
       " (u'markkinointiviestint\\xe4', 768)]"
      ]
     },
     "execution_count": 7,
     "metadata": {},
     "output_type": "execute_result"
    }
   ],
   "source": [
    "from operator import add\n",
    "\n",
    "# Most popular keywords\n",
    "(df.flatMap(lambda row: row.keywords)\n",
    "  .map(lambda x: (x, 1))\n",
    "  .reduceByKey(add)\n",
    "  .sortBy(lambda x: -1 * x[1])\n",
    "  .take(10))"
   ]
  },
  {
   "cell_type": "markdown",
   "metadata": {},
   "source": [
    "## subjects"
   ]
  },
  {
   "cell_type": "code",
   "execution_count": 8,
   "metadata": {
    "collapsed": false
   },
   "outputs": [
    {
     "data": {
      "text/plain": [
       "[(u'markkinointi', 2421),\n",
       " (u'kehitt\\xe4minen', 2341),\n",
       " (u'lapset', 1774),\n",
       " (u'nuoret', 1772),\n",
       " (u'laatu', 1625),\n",
       " (u'suunnittelu', 1600),\n",
       " (u'yritykset', 1474),\n",
       " (u'asiakastyytyv\\xe4isyys', 1459),\n",
       " (u'palvelut', 1360),\n",
       " (u'', 1255)]"
      ]
     },
     "execution_count": 8,
     "metadata": {},
     "output_type": "execute_result"
    }
   ],
   "source": [
    "from operator import add\n",
    "\n",
    "# Most popular subjects\n",
    "(df.flatMap(lambda row: row.subjects)\n",
    "  .map(lambda x: (x, 1))\n",
    "  .reduceByKey(add)\n",
    "  .sortBy(lambda x: -1 * x[1])\n",
    "  .take(10))"
   ]
  },
  {
   "cell_type": "markdown",
   "metadata": {},
   "source": [
    "## language"
   ]
  },
  {
   "cell_type": "code",
   "execution_count": 9,
   "metadata": {
    "collapsed": false
   },
   "outputs": [
    {
     "data": {
      "text/plain": [
       "[Row(language=[u'sv'], count=3651),\n",
       " Row(language=[u''], count=7),\n",
       " Row(language=[u'fi', u'akuuttihoito'], count=1),\n",
       " Row(language=[u'fi', u'swe'], count=1),\n",
       " Row(language=[u'en', u'zh'], count=1),\n",
       " Row(language=[u'de'], count=6),\n",
       " Row(language=[u'en', u''], count=51),\n",
       " Row(language=[u'fi', u'en'], count=3),\n",
       " Row(language=[u'eng'], count=1),\n",
       " Row(language=[u'fi', u''], count=629),\n",
       " Row(language=[u'en'], count=9604),\n",
       " Row(language=[u'en', u'fi'], count=4),\n",
       " Row(language=[u'sv', u'en', u'fi'], count=1),\n",
       " Row(language=[u'other'], count=8),\n",
       " Row(language=[], count=19),\n",
       " Row(language=[u'fi'], count=85715),\n",
       " Row(language=[u'fr'], count=12),\n",
       " Row(language=[u'fi', u'selkokieli'], count=1),\n",
       " Row(language=[u'fi', u'en', u''], count=1),\n",
       " Row(language=[u'fi, en'], count=11),\n",
       " Row(language=[u'fi', u'et', u''], count=1),\n",
       " Row(language=[u'ru'], count=10)]"
      ]
     },
     "execution_count": 9,
     "metadata": {},
     "output_type": "execute_result"
    }
   ],
   "source": [
    "# Show language count\n",
    "df.groupBy(\"language\").count().collect()"
   ]
  },
  {
   "cell_type": "markdown",
   "metadata": {},
   "source": [
    "language schema:\n",
    " - format: String\n",
    " - values: 'fi', 'en', 'sv', 'ru', 'fr', 'de'\n",
    " - rule:\n",
    "\n",
    "TODO: get a list of official language abbreviations instead of hardcoding them"
   ]
  },
  {
   "cell_type": "markdown",
   "metadata": {},
   "source": [
    "## year"
   ]
  },
  {
   "cell_type": "code",
   "execution_count": 10,
   "metadata": {
    "collapsed": false
   },
   "outputs": [
    {
     "data": {
      "text/plain": [
       "[Row(year=[u'2008-01-13'], count=1),\n",
       " Row(year=[u'2010-09-24T08:29:33Z'], count=1),\n",
       " Row(year=[u'2008-01-16'], count=1),\n",
       " Row(year=[u'2009-04-21'], count=1),\n",
       " Row(year=[u'2007-07-11'], count=1),\n",
       " Row(year=[u'2009-01-10'], count=1),\n",
       " Row(year=[u'2007-04-01'], count=1),\n",
       " Row(year=[u'2009-01-12'], count=1),\n",
       " Row(year=[u'2009-01-13'], count=1),\n",
       " Row(year=[u'2007-11-02'], count=1),\n",
       " Row(year=[u'2009-01-14'], count=1),\n",
       " Row(year=[u'2009-01-15'], count=1),\n",
       " Row(year=[u'2008-08-26'], count=1),\n",
       " Row(year=[u'2007-04-05'], count=1),\n",
       " Row(year=[u'2010-09-24T08:29:17Z'], count=1),\n",
       " Row(year=[u'2008-08-28'], count=1),\n",
       " Row(year=[u'2008-08-29'], count=1),\n",
       " Row(year=[u'2007-11-06'], count=1),\n",
       " Row(year=[u'2008-12-15'], count=1),\n",
       " Row(year=[u'2008-02-04'], count=1),\n",
       " Row(year=[u'2008-12-16'], count=1),\n",
       " Row(year=[u'2007-11-09'], count=1),\n",
       " Row(year=[u'2008-05-18'], count=1),\n",
       " Row(year=[u'2008-12-17'], count=1),\n",
       " Row(year=[u'2009-05-10'], count=1),\n",
       " Row(year=[u'2009-08-25'], count=1),\n",
       " Row(year=[u'2008-02-06'], count=1),\n",
       " Row(year=[u'2007-08-02'], count=1),\n",
       " Row(year=[u'2009-05-12'], count=1),\n",
       " Row(year=[u'2008-12-19'], count=1),\n",
       " Row(year=[u'2009-12-11'], count=1),\n",
       " Row(year=[u'2008-09-10'], count=1),\n",
       " Row(year=[u'2009-05-13'], count=1),\n",
       " Row(year=[u'2008-02-09'], count=1),\n",
       " Row(year=[u'2009-12-12'], count=1),\n",
       " Row(year=[u'2008-09-12'], count=1),\n",
       " Row(year=[u'2007-08-06'], count=1),\n",
       " Row(year=[u'2008-09-13'], count=1),\n",
       " Row(year=[u'2009-02-03'], count=1),\n",
       " Row(year=[u'2008-09-14'], count=1),\n",
       " Row(year=[u'2009-02-04'], count=1),\n",
       " Row(year=[u'2007-08-08'], count=1),\n",
       " Row(year=[u'2009-02-05'], count=1),\n",
       " Row(year=[u'2008-09-16'], count=1),\n",
       " Row(year=[u''], count=1),\n",
       " Row(year=[u'2008-09-17'], count=1),\n",
       " Row(year=[u'2006-10-29'], count=1),\n",
       " Row(year=[u'2007-10-20'], count=1),\n",
       " Row(year=[u'2008-06-05'], count=1),\n",
       " Row(year=[u'2007-10-21'], count=1),\n",
       " Row(year=[u'2007-10-22'], count=1),\n",
       " Row(year=[u'2008-11-30'], count=1),\n",
       " Row(year=[u'2010-09-02T08:35:12Z'], count=1),\n",
       " Row(year=[u'2008-06-07'], count=1),\n",
       " Row(year=[u'2007-10-23'], count=1),\n",
       " Row(year=[u'2005-06-15'], count=1),\n",
       " Row(year=[u'2007-10-24'], count=1),\n",
       " Row(year=[u'2011-02-24'], count=1),\n",
       " Row(year=[u'2007-10-26'], count=1),\n",
       " Row(year=[u'2003-09-08'], count=1),\n",
       " Row(year=[u'2010-09-24T08:26:47Z'], count=1),\n",
       " Row(year=[u'1997'], count=1),\n",
       " Row(year=[u'2009-12-18T10:59:58Z'], count=1),\n",
       " Row(year=[u'2008-01-24'], count=1),\n",
       " Row(year=[u'2009-04-30'], count=1),\n",
       " Row(year=[u'2008-01-29'], count=1),\n",
       " Row(year=[u'2010-09-02T09:26:55Z'], count=1),\n",
       " Row(year=[u'2007-11-10'], count=1),\n",
       " Row(year=[u'2009-01-25'], count=1),\n",
       " Row(year=[u'2007-01-01'], count=1),\n",
       " Row(year=[u'2008-12-22'], count=1),\n",
       " Row(year=[u'2008-02-10'], count=1),\n",
       " Row(year=[u'2009-01-27'], count=1),\n",
       " Row(year=[u'2007-01-04'], count=1),\n",
       " Row(year=[u'2009-01-28'], count=1),\n",
       " Row(year=[u'2010-09-24T08:26:42Z'], count=1),\n",
       " Row(year=[u'2008-02-12'], count=1),\n",
       " Row(year=[u'2008-05-27'], count=1),\n",
       " Row(year=[u'[2006]'], count=1),\n",
       " Row(year=[u'2007-08-11'], count=1),\n",
       " Row(year=[u'2009-05-22'], count=1),\n",
       " Row(year=[u'2010-09-24T08:26:53Z'], count=1),\n",
       " Row(year=[u'2007-kk-pv'], count=1),\n",
       " Row(year=[u'2008-09-21'], count=1),\n",
       " Row(year=[u'2006-05-09'], count=1),\n",
       " Row(year=[u'2008-09-22'], count=1),\n",
       " Row(year=[u'2010-09-24T08:28:01Z'], count=1),\n",
       " Row(year=[u'2010-09-24T08:29:40Z'], count=1),\n",
       " Row(year=[u'2003-05'], count=1),\n",
       " Row(year=[u'2007-12-02'], count=1),\n",
       " Row(year=[u'2009-02-14'], count=1),\n",
       " Row(year=[u'2007-05-05'], count=1),\n",
       " Row(year=[u'2008-09-26'], count=1),\n",
       " Row(year=[u'2007-12-04'], count=1),\n",
       " Row(year=[u'2007-05-07'], count=1),\n",
       " Row(year=[u'2007-10-31'], count=1),\n",
       " Row(year=[u'2007-05-08'], count=1),\n",
       " Row(year=[u'2008-09-29'], count=1),\n",
       " Row(year=[u'2008-06-16'], count=1),\n",
       " Row(year=[u'2008-10-01'], count=1),\n",
       " Row(year=[u'2009-09-23'], count=1),\n",
       " Row(year=[u'2008-06-19'], count=1),\n",
       " Row(year=[u'2007-19-12'], count=1),\n",
       " Row(year=[u'2007-12-3'], count=1),\n",
       " Row(year=[u'2007-09-01'], count=1),\n",
       " Row(year=[u'2008-03-06'], count=1),\n",
       " Row(year=[u'2008-10-04'], count=1),\n",
       " Row(year=[u'2008-01-31'], count=1),\n",
       " Row(year=[u'2006-11-20'], count=1),\n",
       " Row(year=[u'2008-03-07'], count=1),\n",
       " Row(year=[u'2008-10-07'], count=1),\n",
       " Row(year=[u'2008-03-09'], count=1),\n",
       " Row(year=[u'2010-09-02T08:34:23Z'], count=1),\n",
       " Row(year=[u'2009-06-18'], count=1),\n",
       " Row(year=[u'2006-11-27'], count=1),\n",
       " Row(year=[u'2009-03-05'], count=1),\n",
       " Row(year=[u'2007-09-09'], count=1),\n",
       " Row(year=[u'2009-10-05'], count=1),\n",
       " Row(year=[u'2010-09-24T08:29:46Z'], count=1),\n",
       " Row(year=[u'2007-11-21'], count=1),\n",
       " Row(year=[u'2009-03-08'], count=1),\n",
       " Row(year=[u'2008-07-05'], count=1),\n",
       " Row(year=[u'2010-02-15'], count=1),\n",
       " Row(year=[u'2009,2010'], count=1),\n",
       " Row(year=[u'2007-04-25'], count=1),\n",
       " Row(year=[u'2008-12-30'], count=1),\n",
       " Row(year=[u'2007-01-11'], count=1),\n",
       " Row(year=[u'2007-04-26'], count=1),\n",
       " Row(year=[u'2010-09-24T08:29:19Z'], count=1),\n",
       " Row(year=[u'2007-04-27'], count=1),\n",
       " Row(year=[u'2008-02-21'], count=1),\n",
       " Row(year=[u'2007-04-28'], count=1),\n",
       " Row(year=[u'2010-09-24T08:26:43Z'], count=1),\n",
       " Row(year=[u'2007-11-27'], count=1),\n",
       " Row(year=[u'2008-10-1'], count=1),\n",
       " Row(year=[u'2007-01-15'], count=1),\n",
       " Row(year=[u'2008-10-3'], count=1),\n",
       " Row(year=[u'2008-02-24'], count=1),\n",
       " Row(year=[u'2008-02-25'], count=1),\n",
       " Row(year=[u'2008-02-26'], count=1),\n",
       " Row(year=[u'2005-11-08'], count=1),\n",
       " Row(year=[u'2010-09-02T08:33:17Z'], count=1),\n",
       " Row(year=[u'2009-02-20'], count=1),\n",
       " Row(year=[u'2003-12'], count=1),\n",
       " Row(year=[u'2010-09-02T08:32:16Z'], count=1),\n",
       " Row(year=[u'2010-09-24T08:29:41Z'], count=1),\n",
       " Row(year=[u'2008-06-20'], count=1),\n",
       " Row(year=[u'2009-02-23'], count=1),\n",
       " Row(year=[u'2007-08-27'], count=1),\n",
       " Row(year=[u'2007-05-13'], count=1),\n",
       " Row(year=[u'2007-12-11'], count=1),\n",
       " Row(year=[u'2007-08-28'], count=1),\n",
       " Row(year=[u'2007-08-29'], count=1),\n",
       " Row(year=[u'2007-12-13'], count=1),\n",
       " Row(year=[u'2008-06-24'], count=1),\n",
       " Row(year=[u'2009-02-27'], count=1),\n",
       " Row(year=[u'2007-05-17'], count=1),\n",
       " Row(year=[u'2007-11-4'], count=1),\n",
       " Row(year=[u'2008-03-11'], count=1),\n",
       " Row(year=[u'2010-09-24T08:26:38Z'], count=1),\n",
       " Row(year=[u'2007-11-5'], count=1),\n",
       " Row(year=[u'2010-09-02T08:35:14Z'], count=1),\n",
       " Row(year=[u'2008-10-11'], count=1),\n",
       " Row(year=[u'2007-02-07'], count=1),\n",
       " Row(year=[u'2008-03-15'], count=1),\n",
       " Row(year=[u'2008-10-13'], count=1),\n",
       " Row(year=[u'2007-11-9'], count=1),\n",
       " Row(year=[u'2008-10-14'], count=1),\n",
       " Row(year=[u'2007-02-09'], count=1),\n",
       " Row(year=[u'2007-09-12'], count=1),\n",
       " Row(year=[u'2008-29-05'], count=1),\n",
       " Row(year=[u'2008-03-19'], count=1),\n",
       " Row(year=[u'2009-06-25'], count=1),\n",
       " Row(year=[u'2009-03-11'], count=1),\n",
       " Row(year=[u'2010-09-24T08:29:36Z'], count=1),\n",
       " Row(year=[u'2007-06-02'], count=1),\n",
       " Row(year=[u'2009-03-13'], count=1),\n",
       " Row(year=[u'2007-09-17'], count=1),\n",
       " Row(year=[u'2004-05'], count=1),\n",
       " Row(year=[u'2007-09-19'], count=1),\n",
       " Row(year=[u'2004-07'], count=1),\n",
       " Row(year=[u'2009-10-14'], count=1),\n",
       " Row(year=[u'2009-10-15'], count=1),\n",
       " Row(year=[u'2005-04-10'], count=1),\n",
       " Row(year=[u'2010-09-24T08:29:20Z'], count=1),\n",
       " Row(year=[u'2008-11-02'], count=1),\n",
       " Row(year=[u'2008-11-03'], count=1),\n",
       " Row(year=[u'2008-02-31'], count=1),\n",
       " Row(year=[u'2008-11-06'], count=1),\n",
       " Row(year=[u'2006-12-22'], count=1),\n",
       " Row(year=[u'[2008]'], count=1),\n",
       " Row(year=[u'2007-01-28'], count=1),\n",
       " Row(year=[u'2007-08-30'], count=1),\n",
       " Row(year=[u'2009-04-01'], count=1),\n",
       " Row(year=[u'2010-09-02T08:31:05Z'], count=1),\n",
       " Row(year=[u'2008-11-09'], count=1),\n",
       " Row(year=[u'2008-08-01'], count=1),\n",
       " Row(year=[u'2007-24-04'], count=1),\n",
       " Row(year=[u'2007-05-20'], count=1),\n",
       " Row(year=[u'2009-04-06'], count=1),\n",
       " Row(year=[u'2008-08-03'], count=1),\n",
       " Row(year=[u'2010-09-24T08:29:42Z'], count=1),\n",
       " Row(year=[u'2007-12-21'], count=1),\n",
       " Row(year=[u'2008-08-06'], count=1),\n",
       " Row(year=[u'2010-09-02T09:25:24Z'], count=1),\n",
       " Row(year=[u'2010-09-16T10:16:19Z'], count=1),\n",
       " Row(year=[u'2005-08-17'], count=1),\n",
       " Row(year=[u'2007-02-16'], count=1),\n",
       " Row(year=[u'2008-10-21'], count=1),\n",
       " Row(year=[u'2005-05-06'], count=1),\n",
       " Row(year=[u'2006-06-14'], count=1),\n",
       " Row(year=[u'2007-09-20'], count=1),\n",
       " Row(year=[u'2007-28-05'], count=1),\n",
       " Row(year=[u'2005-05-08'], count=1),\n",
       " Row(year=[u'2008-03-26'], count=1),\n",
       " Row(year=[u'2010-09-24T08:26:50Z'], count=1),\n",
       " Row(year=[u'2007-09-24'], count=1),\n",
       " Row(year=[u'2008-03-29'], count=1),\n",
       " Row(year=[u'2010-09-24T08:29:37Z'], count=1),\n",
       " Row(year=[u'2007-09-26'], count=1),\n",
       " Row(year=[u'2007-06-12'], count=1),\n",
       " Row(year=[u'2009-03-23'], count=1),\n",
       " Row(year=[u'2007-06-13'], count=1),\n",
       " Row(year=[u'2009-10-22'], count=1),\n",
       " Row(year=[u'2009-03-25'], count=1),\n",
       " Row(year=[u'2007-06-15'], count=1),\n",
       " Row(year=[u'2009-03-26'], count=1),\n",
       " Row(year=[u'2009-03-27'], count=1),\n",
       " Row(year=[u'2007-10-02'], count=1),\n",
       " Row(year=[u'2008-07-25'], count=1),\n",
       " Row(year=[u'2008-11-10'], count=1),\n",
       " Row(year=[u'2008-04-12'], count=1),\n",
       " Row(year=[u'2007-03-07'], count=1),\n",
       " Row(year=[u'2008-04-15'], count=1),\n",
       " Row(year=[u'2007-03-09'], count=1),\n",
       " Row(year=[u'2008-01-02'], count=1),\n",
       " Row(year=[u'2005-01-10'], count=1),\n",
       " Row(year=[u'2007-10-08'], count=1),\n",
       " Row(year=[u'2008-11-15'], count=1),\n",
       " Row(year=[u'2007-10-09'], count=1),\n",
       " Row(year=[u'2008-11-16'], count=1),\n",
       " Row(year=[u'2011-02-09'], count=1),\n",
       " Row(year=[u'2009-04-10'], count=1),\n",
       " Row(year=[u'2010-09-24T08:29:32Z'], count=1),\n",
       " Row(year=[u'20080212'], count=1),\n",
       " Row(year=[u'2010-09-02T09:25:41Z'], count=1),\n",
       " Row(year=[u'2007-31-10'], count=1),\n",
       " Row(year=[u'2008-05-106'], count=1),\n",
       " Row(year=[u'2008-08-10'], count=1),\n",
       " Row(year=[u'2009-04-13'], count=1),\n",
       " Row(year=[u'2008-08-11'], count=1),\n",
       " Row(year=[u'2007-07-04'], count=1),\n",
       " Row(year=[u'2008-01-09'], count=1),\n",
       " Row(year=[u'2009-04-14'], count=1),\n",
       " Row(year=[u'2007-07-05'], count=1),\n",
       " Row(year=[u'2009-04-16'], count=1),\n",
       " Row(year=[u'2010-09-24T08:29:43Z'], count=1),\n",
       " Row(year=[u'2008-05-02'], count=1),\n",
       " Row(year=[u'2009-01-05'], count=1),\n",
       " Row(year=[u'2008-08-17'], count=1),\n",
       " Row(year=[u'2007-14-08'], count=1),\n",
       " Row(year=[u'2010-09-24T08:29:16Z'], count=1),\n",
       " Row(year=[u'2009-11-19'], count=1),\n",
       " Row(year=[u'2008-12-03'], count=1),\n",
       " Row(year=[u'2010-09-24T08:26:40Z'], count=1),\n",
       " Row(year=[u'2007-21-09'], count=1),\n",
       " Row(year=[u'2008-12-05'], count=1),\n",
       " Row(year=[u'2006-10-10'], count=1),\n",
       " Row(year=[u'2010-09-24T08:26:51Z'], count=1),\n",
       " Row(year=[u'2010-09-02T08:30:00Z'], count=1),\n",
       " Row(year=[u'2008-5-26'], count=1),\n",
       " Row(year=[u'2009-05-04'], count=1),\n",
       " Row(year=[u'2009-12-02'], count=1),\n",
       " Row(year=[u'2009-12-03'], count=1),\n",
       " Row(year=[u'2009-08-19'], count=1),\n",
       " Row(year=[u'2010-09-02T08:30:38Z'], count=1),\n",
       " Row(year=[u'2008-09-03'], count=1),\n",
       " Row(year=[u'2010-09-02T08:31:12Z'], count=1),\n",
       " Row(year=[u'2009-12-05'], count=1),\n",
       " Row(year=[u'2009-05-07'], count=1),\n",
       " Row(year=[u'2008-09-05'], count=1),\n",
       " Row(year=[u'2009-05-08'], count=1),\n",
       " Row(year=[u'2007-06-24'], count=1),\n",
       " Row(year=[u'2008-09-06'], count=1),\n",
       " Row(year=[u'2008-07-31'], count=1),\n",
       " Row(year=[u'2007-03-10'], count=1),\n",
       " Row(year=[u'2009-12-08'], count=1),\n",
       " Row(year=[u'2009-03-35'], count=1),\n",
       " Row(year=[u'2005-09-15'], count=1),\n",
       " Row(year=[u'2008-09-08'], count=1),\n",
       " Row(year=[u'2008-23-05'], count=1),\n",
       " Row(year=[u'2008-04-20'], count=1),\n",
       " Row(year=[u'2007-10-12'], count=1),\n",
       " Row(year=[u'2007-06-29'], count=1),\n",
       " Row(year=[u'2007-9-10'], count=1),\n",
       " Row(year=[u'2008-04-23'], count=1),\n",
       " Row(year=[u'2007-10-15'], count=1),\n",
       " Row(year=[u'2008-11-22'], count=1),\n",
       " Row(year=[u'2008-01-11'], count=1),\n",
       " Row(year=[u'2007-10-16'], count=1),\n",
       " Row(year=[u'2008-04-26'], count=1),\n",
       " Row(year=[u'2010-09-24T08:26:46Z'], count=1),\n",
       " Row(year=[u'2008-11-25'], count=2),\n",
       " Row(year=[u'2008-11-28'], count=2),\n",
       " Row(year=[u'2009-04-22'], count=2),\n",
       " Row(year=[u'2009-04-23'], count=2),\n",
       " Row(year=[u'2008-01-18'], count=2),\n",
       " Row(year=[u'2012-05-29'], count=2),\n",
       " Row(year=[u'2009-04-25'], count=2),\n",
       " Row(year=[u'2008-05-11'], count=2),\n",
       " Row(year=[u'2009-01-16'], count=2),\n",
       " Row(year=[u'2009-01-19'], count=2),\n",
       " Row(year=[u'2008-02-03'], count=2),\n",
       " Row(year=[u'2008-02-08'], count=2),\n",
       " Row(year=[u'2009-05-14'], count=2),\n",
       " Row(year=[u'2009-05-15'], count=2),\n",
       " Row(year=[u'2009-02-02'], count=2),\n",
       " Row(year=[u'2009-05-16'], count=2),\n",
       " Row(year=[u'2009-12-15'], count=2),\n",
       " Row(year=[u'2008-06-01'], count=2),\n",
       " Row(year=[u'2009-05-19'], count=2),\n",
       " Row(year=[u'2006-04-10'], count=2),\n",
       " Row(year=[u'2009-06-01'], count=2),\n",
       " Row(year=[u'2007-10-28'], count=2),\n",
       " Row(year=[u'2002-10'], count=2),\n",
       " Row(year=[u'2009-01-21'], count=2),\n",
       " Row(year=[u'2007-11-11'], count=2),\n",
       " Row(year=[u'2008-05-22'], count=2),\n",
       " Row(year=[u'2008-05-25'], count=2),\n",
       " Row(year=[u'2008-02-13'], count=2),\n",
       " Row(year=[u'2008-02-15'], count=2),\n",
       " Row(year=[u'2007-08-10'], count=2),\n",
       " Row(year=[u'2009-05-20'], count=2),\n",
       " Row(year=[u'2006-05-08'], count=2),\n",
       " Row(year=[u'2007-05-01'], count=2),\n",
       " Row(year=[u'2009-05-25'], count=2),\n",
       " Row(year=[u'2009-02-12'], count=2),\n",
       " Row(year=[u'2007-05-02'], count=2),\n",
       " Row(year=[u'2008-09-23'], count=2),\n",
       " Row(year=[u'2007-05-03'], count=2),\n",
       " Row(year=[u'2008-06-10'], count=2),\n",
       " Row(year=[u'2007-08-17'], count=2),\n",
       " Row(year=[u'2007-12-03'], count=2),\n",
       " Row(year=[u'2008-06-12'], count=2),\n",
       " Row(year=[u'2008-06-13'], count=2),\n",
       " Row(year=[u'2007-10-30'], count=2),\n",
       " Row(year=[u'2007-12-07'], count=2),\n",
       " Row(year=[u'2009-02-19'], count=2),\n",
       " Row(year=[u'2008-06-17'], count=2),\n",
       " Row(year=[u'2008-03-03'], count=2),\n",
       " Row(year=[u'2008-03-04'], count=2),\n",
       " Row(year=[u'2008-06-18'], count=2),\n",
       " Row(year=[u'2008-10-06'], count=2),\n",
       " Row(year=[u'2007-09-04'], count=2),\n",
       " Row(year=[u'2009-01-30'], count=2),\n",
       " Row(year=[u'2007-04-23'], count=2),\n",
       " Row(year=[u'2009-03-09'], count=2),\n",
       " Row(year=[u'2007-11-24'], count=2),\n",
       " Row(year=[u'2005-04-04'], count=2),\n",
       " Row(year=[u'2008-02-22'], count=2),\n",
       " Row(year=[u'2007-11-28'], count=2),\n",
       " Row(year=[u'2007-11-29'], count=2),\n",
       " Row(year=[u'2008-02-28'], count=2),\n",
       " Row(year=[u'2007-05-12'], count=2),\n",
       " Row(year=[u'2007-02-01'], count=2),\n",
       " Row(year=[u'2009-02-26'], count=2),\n",
       " Row(year=[u'2007-12-14'], count=2),\n",
       " Row(year=[u'2007-05-18'], count=2),\n",
       " Row(year=[u'2007-12-17'], count=2),\n",
       " Row(year=[u'2008-10-10'], count=2),\n",
       " Row(year=[u'2007-12-19'], count=2),\n",
       " Row(year=[u'2007-09-10'], count=2),\n",
       " Row(year=[u'2009-03-10'], count=2),\n",
       " Row(year=[u'2007-06-01'], count=2),\n",
       " Row(year=[u'2009-03-12'], count=2),\n",
       " Row(year=[u'2007-06-03'], count=2),\n",
       " Row(year=[u'2004-06'], count=2),\n",
       " Row(year=[u'2010-02-22'], count=2),\n",
       " Row(year=[u'2007-06-07'], count=2),\n",
       " Row(year=[u'2008-07-15'], count=2),\n",
       " Row(year=[u'2009-03-18'], count=2),\n",
       " Row(year=[u'2007-06-08'], count=2),\n",
       " Row(year=[u'2008-04-02'], count=2),\n",
       " Row(year=[u'2007-13-09'], count=2),\n",
       " Row(year=[u'2008-04-06'], count=2),\n",
       " Row(year=[u'2006-12-20'], count=2),\n",
       " Row(year=[u'2007-12-20'], count=2),\n",
       " Row(year=[u'2007-17-09'], count=2),\n",
       " Row(year=[u'2007-05-22'], count=2),\n",
       " Row(year=[u'2007-05-23'], count=2),\n",
       " Row(year=[u'2007-05-24'], count=2),\n",
       " Row(year=[u'2007-02-11'], count=2),\n",
       " Row(year=[u'2008-08-07'], count=2),\n",
       " Row(year=[u'2008-10-20'], count=2),\n",
       " Row(year=[u'2008-10-23'], count=2),\n",
       " Row(year=[u'2005-05-09'], count=2),\n",
       " Row(year=[u'2008-10-26'], count=2),\n",
       " Row(year=[u'2008-10-28'], count=2),\n",
       " Row(year=[u'2009-03-24'], count=2),\n",
       " Row(year=[u'2007-09-29'], count=2),\n",
       " Row(year=[u'2008-04-13'], count=2),\n",
       " Row(year=[u'2008-07-28'], count=2),\n",
       " Row(year=[u'2007-10-05'], count=2),\n",
       " Row(year=[u'2008-11-13'], count=2),\n",
       " Row(year=[u'2008-01-04'], count=2),\n",
       " Row(year=[u'2008-04-19'], count=2),\n",
       " Row(year=[u'2008-01-06'], count=2),\n",
       " Row(year=[u'2012-05-16'], count=2),\n",
       " Row(year=[u'2008-01-07'], count=2),\n",
       " Row(year=[u'2008-11-19'], count=2),\n",
       " Row(year=[u'20080215'], count=2),\n",
       " Row(year=[u'2009-04-15'], count=2),\n",
       " Row(year=[u'2009-01-01'], count=2),\n",
       " Row(year=[u'2009-01-04'], count=2),\n",
       " Row(year=[u'2009-01-07'], count=2),\n",
       " Row(year=[u'2008-12-04'], count=2),\n",
       " Row(year=[u'2008-10-31'], count=2),\n",
       " Row(year=[u'2009-05-01'], count=2),\n",
       " Row(year=[u'2010-09-24T08:29:38Z'], count=2),\n",
       " Row(year=[u'2007-10-10'], count=2),\n",
       " Row(year=[u'2008-11-20'], count=2),\n",
       " Row(year=[u'2009-09-02'], count=2),\n",
       " Row(year=[u'2008-01-10'], count=2),\n",
       " Row(year=[u'2008-04-25'], count=2),\n",
       " Row(year=[u'2007-29-05'], count=2),\n",
       " Row(year=[u'2008-11-26'], count=3),\n",
       " Row(year=[u'2008-01-17'], count=3),\n",
       " Row(year=[u'2007-11-01'], count=3),\n",
       " Row(year=[u'2008-08-25'], count=3),\n",
       " Row(year=[u'2008-12-10'], count=3),\n",
       " Row(year=[u'2008-02-01'], count=3),\n",
       " Row(year=[u'2008-02-07'], count=3),\n",
       " Row(year=[u'2008-09-11'], count=3),\n",
       " Row(year=[u'2008-09-15'], count=3),\n",
       " Row(year=[u'2009-02-06'], count=3),\n",
       " Row(year=[u'2008-06-03'], count=3),\n",
       " Row(year=[u'2008-06-04'], count=3),\n",
       " Row(year=[u'2009-06-04'], count=3),\n",
       " Row(year=[u'2008-01-25'], count=3),\n",
       " Row(year=[u'2009-01-23'], count=3),\n",
       " Row(year=[u'2007-11-18'], count=3),\n",
       " Row(year=[u'2008-12-29'], count=3),\n",
       " Row(year=[u'2008-02-19'], count=3),\n",
       " Row(year=[u'2009-05-26'], count=3),\n",
       " Row(year=[u'2009-05-27'], count=3),\n",
       " Row(year=[u'2007-05-04'], count=3),\n",
       " Row(year=[u'2007-05-06'], count=3),\n",
       " Row(year=[u'2008-02-20'], count=3),\n",
       " Row(year=[u'2007-11-26'], count=3),\n",
       " Row(year=[u'2008-03-13'], count=3),\n",
       " Row(year=[u'2007-12-18'], count=3),\n",
       " Row(year=[u'2008-10-17'], count=3),\n",
       " Row(year=[u'2007-04-30'], count=3),\n",
       " Row(year=[u'2007-06-05'], count=3),\n",
       " Row(year=[u'2009-06-29'], count=3),\n",
       " Row(year=[u'2007-06-06'], count=3),\n",
       " Row(year=[u'2008-04-01'], count=3),\n",
       " Row(year=[u'2012-12-03'], count=3),\n",
       " Row(year=[u'2008-03-23'], count=3),\n",
       " Row(year=[u'2008-10-24'], count=3),\n",
       " Row(year=[u'2008-10-27'], count=3),\n",
       " Row(year=[u'2009-03-20'], count=3),\n",
       " Row(year=[u'2007-06-11'], count=3),\n",
       " Row(year=[u'2008-11-12'], count=3),\n",
       " Row(year=[u'2008-01-01'], count=3),\n",
       " Row(year=[u'2008-11-14'], count=3),\n",
       " Row(year=[u'2008-04-17'], count=3),\n",
       " Row(year=[u'2008-11-18'], count=3),\n",
       " Row(year=[u'2008-05-06'], count=3),\n",
       " Row(year=[u'2008-05-08'], count=3),\n",
       " Row(year=[u'2009-08-13'], count=3),\n",
       " Row(year=[u'2009-05-05'], count=3),\n",
       " Row(year=[u'2009-03-31'], count=3),\n",
       " Row(year=[u'2008-09-04'], count=3),\n",
       " Row(year=[u'2008-11-21'], count=3),\n",
       " Row(year=[u'2008-11-24'], count=3),\n",
       " Row(year=[u'2008-04-29'], count=4),\n",
       " Row(year=[u'2008-01-15'], count=4),\n",
       " Row(year=[u'2008-05-10'], count=4),\n",
       " Row(year=[u'2008-05-12'], count=4),\n",
       " Row(year=[u'2008-05-13'], count=4),\n",
       " Row(year=[u'2008-12-11'], count=4),\n",
       " Row(year=[u'2008-12-12'], count=4),\n",
       " Row(year=[u'2007-11-08'], count=4),\n",
       " Row(year=[u'2008-05-19'], count=4),\n",
       " Row(year=[u'2009-05-18'], count=4),\n",
       " Row(year=[u'2008-04-30'], count=4),\n",
       " Row(year=[u'2009-02-09'], count=4),\n",
       " Row(year=[u'2008-06-09'], count=4),\n",
       " Row(year=[u'2007-10-29'], count=4),\n",
       " Row(year=[u'2008-05-20'], count=4),\n",
       " Row(year=[u'2007-11-12'], count=4),\n",
       " Row(year=[u'2008-05-21'], count=4),\n",
       " Row(year=[u'2007-11-15'], count=4),\n",
       " Row(year=[u'2008-05-26'], count=4),\n",
       " Row(year=[u'2008-02-18'], count=4),\n",
       " Row(year=[u'2008-06-11'], count=4),\n",
       " Row(year=[u'2009-03-02'], count=4),\n",
       " Row(year=[u'2007-11-20'], count=4),\n",
       " Row(year=[u'2007-11-23'], count=4),\n",
       " Row(year=[u'2009-07-01'], count=4),\n",
       " Row(year=[u'2009-03-16'], count=4),\n",
       " Row(year=[u'2008-04-03'], count=4),\n",
       " Row(year=[u'2008-04-05'], count=4),\n",
       " Row(year=[u'2008-11-07'], count=4),\n",
       " Row(year=[u'2008-08-04'], count=4),\n",
       " Row(year=[u'2007-05-27'], count=4),\n",
       " Row(year=[u'2007-10-01'], count=4),\n",
       " Row(year=[u'2008-04-10'], count=4),\n",
       " Row(year=[u'2008-04-18'], count=4),\n",
       " Row(year=[u'2007-12-30'], count=4),\n",
       " Row(year=[u'2008-03-30'], count=4),\n",
       " Row(year=[u'2008-04-22'], count=4),\n",
       " Row(year=[u'2008-04-28'], count=5),\n",
       " Row(year=[u'2008-05-14'], count=5),\n",
       " Row(year=[u'2007-11-05'], count=5),\n",
       " Row(year=[u'2007-11-14'], count=5),\n",
       " Row(year=[u'2007-11-16'], count=5),\n",
       " Row(year=[u'2009-05-28'], count=5),\n",
       " Row(year=[u'2007-05-16'], count=5),\n",
       " Row(year=[u'2009-06-24'], count=5),\n",
       " Row(year=[u'2008-11-01'], count=5),\n",
       " Row(year=[u'2007-05-21'], count=5),\n",
       " Row(year=[u'2007-05-29'], count=5),\n",
       " Row(year=[u'2008-05-03'], count=5),\n",
       " Row(year=[u'2008-12-01'], count=5),\n",
       " Row(year=[u'2008-05-04'], count=5),\n",
       " Row(year=[u'2008-12-02'], count=5),\n",
       " Row(year=[u'2008-12-08'], count=5),\n",
       " Row(year=[u'2008-05-15'], count=6),\n",
       " Row(year=[u'2008-05-23'], count=6),\n",
       " Row(year=[u'2008-05-28'], count=6),\n",
       " Row(year=[u'2009-07-02'], count=6),\n",
       " Row(year=[u'2007-05-14'], count=6),\n",
       " Row(year=[u'2008-03-17'], count=6),\n",
       " Row(year=[u'2008-04-04'], count=6),\n",
       " Row(year=[u'2008-05-09'], count=6),\n",
       " Row(year=[u'2008-04-21'], count=6),\n",
       " Row(year=[u'2008-06-02'], count=7),\n",
       " Row(year=[u'2008-03-01'], count=7),\n",
       " Row(year=[u'2008-05-31'], count=7),\n",
       " Row(year=[u'2007-05-10'], count=7),\n",
       " Row(year=[u'2007-05-11'], count=7),\n",
       " Row(year=[u'2008-03-10'], count=7),\n",
       " Row(year=[u'2009-06-30'], count=7),\n",
       " Row(year=[u'2008-11-11'], count=7),\n",
       " Row(year=[u'2007-05-31'], count=7),\n",
       " Row(year=[u'2008-05-07'], count=7),\n",
       " Row(year=[u'2008-01-14'], count=8),\n",
       " Row(year=[u'2008-02-11'], count=8),\n",
       " Row(year=[u'2009-09-28'], count=8),\n",
       " Row(year=[u'2007-05-15'], count=8),\n",
       " Row(year=[u'2009-06-23'], count=8),\n",
       " Row(year=[u'2007-11-30'], count=8),\n",
       " Row(year=[u'2007-05-25'], count=8),\n",
       " Row(year=[u'2008-12-09'], count=8),\n",
       " Row(year=[u'2008-06-06'], count=9),\n",
       " Row(year=[u'2008-03-05'], count=9),\n",
       " Row(year=[u'2007-12-10'], count=9),\n",
       " Row(year=[u'2007-06-04'], count=9),\n",
       " Row(year=[u'2008-04-07'], count=9),\n",
       " Row(year=[u'2007-05-28'], count=9),\n",
       " Row(year=[u'2008-04-14'], count=9),\n",
       " Row(year=[u'2007-05-30'], count=9),\n",
       " Row(year=[u'2008-05-29'], count=10),\n",
       " Row(year=[u'2008-11-17'], count=10),\n",
       " Row(year=[u'2007-12-05'], count=11),\n",
       " Row(year=[u'2007-05-09'], count=12),\n",
       " Row(year=[u'2008-05-30'], count=12),\n",
       " Row(year=[u'2000'], count=16),\n",
       " Row(year=[u'2001'], count=19),\n",
       " Row(year=[u'2007-11-19'], count=22),\n",
       " Row(year=[u'2003'], count=23),\n",
       " Row(year=[u'2002'], count=28),\n",
       " Row(year=[u'2008-05-05'], count=41),\n",
       " Row(year=[u'2004'], count=44),\n",
       " Row(year=[u'2005'], count=454),\n",
       " Row(year=[u'2016'], count=726),\n",
       " Row(year=[u'2006'], count=1357),\n",
       " Row(year=[u'2007'], count=1783),\n",
       " Row(year=[u'2008'], count=1892),\n",
       " Row(year=[u'2009'], count=5628),\n",
       " Row(year=[u'2010'], count=10195),\n",
       " Row(year=[u'2011'], count=12943),\n",
       " Row(year=[u'2012'], count=14507),\n",
       " Row(year=[u'2013'], count=15905),\n",
       " Row(year=[u'2014'], count=16067),\n",
       " Row(year=[u'2015'], count=16844)]"
      ]
     },
     "execution_count": 10,
     "metadata": {},
     "output_type": "execute_result"
    }
   ],
   "source": [
    "df.groupBy(\"year\").count().orderBy(\"count\").collect()"
   ]
  },
  {
   "cell_type": "markdown",
   "metadata": {},
   "source": [
    "year schema:\n",
    "- format: integer (YYYY)\n",
    "- rule: take first four digits\n",
    "- shit: '[2008]'"
   ]
  },
  {
   "cell_type": "markdown",
   "metadata": {},
   "source": [
    "## Missing values"
   ]
  },
  {
   "cell_type": "code",
   "execution_count": 11,
   "metadata": {
    "collapsed": false
   },
   "outputs": [
    {
     "name": "stdout",
     "output_type": "stream",
     "text": [
      "abstract_en: 11138\n",
      "abstract_fi: 12553\n",
      "abstract_sv: 95662\n",
      "authors: 97\n",
      "collections: 0\n",
      "date: 0\n",
      "documents_url: 37\n",
      "identifier: 0\n",
      "keywords: 11613\n",
      "language: 19\n",
      "organization: 140\n",
      "orientation: 51845\n",
      "programme: 1816\n",
      "subjects: 36711\n",
      "titles: 1\n",
      "url: 0\n",
      "year: 0\n"
     ]
    }
   ],
   "source": [
    "# Number of theses with empty values for each field\n",
    "for field in df.columns:\n",
    "    print \"{}: {}\".format(field, df.map(lambda row: len(getattr(row, field)))\n",
    "                                   .filter(lambda l: l == 0)\n",
    "                                   .count())\n",
    "    \n",
    "# TODO: refactor to only iterate over data once"
   ]
  },
  {
   "cell_type": "code",
   "execution_count": 9,
   "metadata": {
    "collapsed": false
   },
   "outputs": [],
   "source": [
    "def apply_to_first_element(func):\n",
    "    \"\"\"modifies a function that takes a list to only act on the first element\"\"\"\n",
    "    def wrapper(*args, **kwargs):\n",
    "        return func(args[0][0], **kwargs)\n",
    "    return wrapper\n",
    "\n",
    "@apply_to_first_element\n",
    "def parse_year(year):\n",
    "    \"\"\"extracts an integer year from a string or returns 0\n",
    "    Args:\n",
    "        year (string)\n",
    "    Returns:\n",
    "        parsed year (int)\n",
    "    \"\"\"\n",
    "    try:\n",
    "        return int(year[0:4])\n",
    "    except Exception, e:\n",
    "        # Unable to parse\n",
    "        return 0\n",
    "    \n",
    "assert parse_year(['2008-05-05']) == 2008\n",
    "assert parse_year(['2007']) == 2007\n",
    "assert parse_year(['[2007]']) == 0\n",
    "assert parse_year(['']) == 0\n",
    "\n",
    "def parse_language(languages):\n",
    "    \"\"\"extracts a single official language abbreviation or returns 0\n",
    "    Args:\n",
    "        languages: (list of strings)\n",
    "    Returns:\n",
    "        string\n",
    "    \"\"\"\n",
    "    official = ('fi', 'en', 'sv', 'ru', 'fr', 'de')\n",
    "\n",
    "    for o in official:  # check for finnish first\n",
    "        if o in languages:\n",
    "            return o\n",
    "    return 0\n",
    "\n",
    "assert parse_language(['fi']) == 'fi'\n",
    "assert parse_language(['fi', 'en']) == 'fi'\n",
    "assert parse_language(['en', 'fi']) == 'fi'\n",
    "assert parse_language(['']) == 0\n",
    "assert parse_language([u'fi, en']) == 0\n",
    "    \n",
    "    \n",
    "import datetime\n",
    "\n",
    "@apply_to_first_element\n",
    "def parse_date(date):\n",
    "    try:\n",
    "        return datetime.datetime.strptime(date, '%Y-%m-%dT%H:%M:%SZ')\n",
    "    except Exception, e:\n",
    "        return 0\n",
    "    \n",
    "assert parse_date([u'2013-08-21T08:04:06Z']) == datetime.datetime(2013, 8, 21, 8, 4, 6)"
   ]
  },
  {
   "cell_type": "markdown",
   "metadata": {},
   "source": [
    "## Combine subjects and keywords into topics"
   ]
  },
  {
   "cell_type": "code",
   "execution_count": 10,
   "metadata": {
    "collapsed": false
   },
   "outputs": [],
   "source": [
    "def combine(l1, l2):\n",
    "    \"\"\"combine two lists\n",
    "    Args:\n",
    "        l1: list of strings\n",
    "        l2: list of strings\n",
    "    Returns:\n",
    "        list of unique, lower case strings\n",
    "    \"\"\"\n",
    "    l1 = map(lambda k: k.lower(), l1)  # lower case\n",
    "    l2 = map(lambda s: s.lower(), l2)  # lower case\n",
    "    l = list(set(l1).union(l2))  # get combination without duplicates\n",
    "    return filter(lambda s: s, list(l))  # remove empty\n",
    "\n",
    "assert set(combine(['java', '', 'android'], ['Java', 'Scala'])) == set(['android', 'java', 'scala'])\n",
    "assert set(combine(['java'], ['Scala'])) == set(['java', 'scala'])\n",
    "assert set(combine([''], [''])) == set([])"
   ]
  },
  {
   "cell_type": "markdown",
   "metadata": {},
   "source": [
    "## Create new clean columns for year, language, date and topics"
   ]
  },
  {
   "cell_type": "code",
   "execution_count": 11,
   "metadata": {
    "collapsed": false
   },
   "outputs": [],
   "source": [
    "from pyspark.sql.functions import UserDefinedFunction\n",
    "from pyspark.sql.types import IntegerType, StringType, TimestampType, ArrayType\n",
    "\n",
    "clean_year = UserDefinedFunction(parse_year, IntegerType())\n",
    "clean_language = UserDefinedFunction(parse_language, StringType())\n",
    "date_to_timestamp = UserDefinedFunction(parse_date, TimestampType())\n",
    "get_topics = UserDefinedFunction(combine, ArrayType(StringType()))\n",
    "\n",
    "# Creates new columns with cleaned fields\n",
    "df_clean = (df.withColumn('year_clean', clean_year(df.year))\n",
    "              .withColumn('language_clean', clean_language(df.language))\n",
    "              .withColumn('date_formatted', date_to_timestamp(df.date))\n",
    "              .withColumn('topics', get_topics(df.subjects, df.keywords))\n",
    "            )\n",
    "# df_clean.cache()\n",
    "# df_clean.count() #raises an OutOfMemoryError: Java heap space"
   ]
  },
  {
   "cell_type": "code",
   "execution_count": 12,
   "metadata": {
    "collapsed": false
   },
   "outputs": [
    {
     "name": "stdout",
     "output_type": "stream",
     "text": [
      "root\n",
      " |-- abstract_en: array (nullable = true)\n",
      " |    |-- element: string (containsNull = true)\n",
      " |-- abstract_fi: array (nullable = true)\n",
      " |    |-- element: string (containsNull = true)\n",
      " |-- abstract_sv: array (nullable = true)\n",
      " |    |-- element: string (containsNull = true)\n",
      " |-- authors: array (nullable = true)\n",
      " |    |-- element: string (containsNull = true)\n",
      " |-- collections: array (nullable = true)\n",
      " |    |-- element: string (containsNull = true)\n",
      " |-- date: array (nullable = true)\n",
      " |    |-- element: string (containsNull = true)\n",
      " |-- documents_url: array (nullable = true)\n",
      " |    |-- element: string (containsNull = true)\n",
      " |-- identifier: array (nullable = true)\n",
      " |    |-- element: string (containsNull = true)\n",
      " |-- keywords: array (nullable = true)\n",
      " |    |-- element: string (containsNull = true)\n",
      " |-- language: array (nullable = true)\n",
      " |    |-- element: string (containsNull = true)\n",
      " |-- organization: array (nullable = true)\n",
      " |    |-- element: string (containsNull = true)\n",
      " |-- orientation: array (nullable = true)\n",
      " |    |-- element: string (containsNull = true)\n",
      " |-- programme: array (nullable = true)\n",
      " |    |-- element: string (containsNull = true)\n",
      " |-- subjects: array (nullable = true)\n",
      " |    |-- element: string (containsNull = true)\n",
      " |-- titles: array (nullable = true)\n",
      " |    |-- element: string (containsNull = true)\n",
      " |-- url: array (nullable = true)\n",
      " |    |-- element: string (containsNull = true)\n",
      " |-- year: array (nullable = true)\n",
      " |    |-- element: string (containsNull = true)\n",
      " |-- year_clean: integer (nullable = true)\n",
      " |-- language_clean: string (nullable = true)\n",
      " |-- date_formatted: timestamp (nullable = true)\n",
      " |-- topics: array (nullable = true)\n",
      " |    |-- element: string (containsNull = true)\n",
      "\n"
     ]
    }
   ],
   "source": [
    "df_clean.printSchema()"
   ]
  },
  {
   "cell_type": "markdown",
   "metadata": {},
   "source": [
    "## Number of theses with no topics"
   ]
  },
  {
   "cell_type": "code",
   "execution_count": 46,
   "metadata": {
    "collapsed": false
   },
   "outputs": [
    {
     "name": "stdout",
     "output_type": "stream",
     "text": [
      "topics: 515\n"
     ]
    }
   ],
   "source": [
    "field = \"topics\"\n",
    "print \"{}: {}\".format(field, df_clean.map(lambda row: len(getattr(row, field)))\n",
    "                               .filter(lambda l: l == 0)\n",
    "                               .count())"
   ]
  },
  {
   "cell_type": "markdown",
   "metadata": {},
   "source": [
    "## Popular topics"
   ]
  },
  {
   "cell_type": "code",
   "execution_count": 13,
   "metadata": {
    "collapsed": false
   },
   "outputs": [
    {
     "data": {
      "text/plain": [
       "[(u'markkinointi', 2994),\n",
       " (u'kehitt\\xe4minen', 2954),\n",
       " (u'nuoret', 2175),\n",
       " (u'laatu', 2128),\n",
       " (u'lapset', 2043),\n",
       " (u'asiakastyytyv\\xe4isyys', 1976),\n",
       " (u'suunnittelu', 1952),\n",
       " (u'kvalitatiivinen tutkimus', 1657),\n",
       " (u'kyselytutkimus', 1649),\n",
       " (u'hoitoty\\xf6', 1537)]"
      ]
     },
     "execution_count": 13,
     "metadata": {},
     "output_type": "execute_result"
    }
   ],
   "source": [
    "from operator import add\n",
    "\n",
    "(df_clean.flatMap(lambda row: row.topics)\n",
    "  .map(lambda x: (x, 1))\n",
    "  .reduceByKey(add)\n",
    "  .sortBy(lambda x: -1 * x[1])\n",
    "  .take(10))"
   ]
  },
  {
   "cell_type": "code",
   "execution_count": 14,
   "metadata": {
    "collapsed": false
   },
   "outputs": [
    {
     "data": {
      "text/plain": [
       "[Row(language_clean=u'fr', count=12),\n",
       " Row(language_clean=u'sv', count=3366),\n",
       " Row(language_clean=u'0', count=46),\n",
       " Row(language_clean=u'de', count=6),\n",
       " Row(language_clean=u'en', count=8640),\n",
       " Row(language_clean=u'ru', count=10),\n",
       " Row(language_clean=u'fi', count=79813)]"
      ]
     },
     "execution_count": 14,
     "metadata": {},
     "output_type": "execute_result"
    }
   ],
   "source": [
    "df_clean.groupBy(\"language_clean\").count().collect()"
   ]
  },
  {
   "cell_type": "code",
   "execution_count": 15,
   "metadata": {
    "collapsed": false
   },
   "outputs": [
    {
     "data": {
      "text/plain": [
       "[Row(year_clean=1997, count=1),\n",
       " Row(year_clean=2000, count=16),\n",
       " Row(year_clean=0, count=3),\n",
       " Row(year_clean=2001, count=19),\n",
       " Row(year_clean=2002, count=30),\n",
       " Row(year_clean=2003, count=26),\n",
       " Row(year_clean=2004, count=48),\n",
       " Row(year_clean=2005, count=466),\n",
       " Row(year_clean=2006, count=1369),\n",
       " Row(year_clean=2007, count=2168),\n",
       " Row(year_clean=2008, count=2514),\n",
       " Row(year_clean=2009, count=5836),\n",
       " Row(year_clean=2010, count=10232),\n",
       " Row(year_clean=2011, count=12941),\n",
       " Row(year_clean=2012, count=14505),\n",
       " Row(year_clean=2013, count=15885),\n",
       " Row(year_clean=2014, count=15982),\n",
       " Row(year_clean=2015, count=9852)]"
      ]
     },
     "execution_count": 15,
     "metadata": {},
     "output_type": "execute_result"
    }
   ],
   "source": [
    "df_clean.groupBy(\"year_clean\").count().collect()"
   ]
  },
  {
   "cell_type": "code",
   "execution_count": 16,
   "metadata": {
    "collapsed": false
   },
   "outputs": [
    {
     "data": {
      "text/plain": [
       "[Row(year_clean=0, year=[u'[2006]']),\n",
       " Row(year_clean=0, year=[u'[2008]']),\n",
       " Row(year_clean=0, year=[u''])]"
      ]
     },
     "execution_count": 16,
     "metadata": {},
     "output_type": "execute_result"
    }
   ],
   "source": [
    "# There are only 3 rows that are not parsed correctly\n",
    "df_clean.filter(df_clean.year_clean == 0).select('year_clean', 'year').collect()"
   ]
  },
  {
   "cell_type": "code",
   "execution_count": 17,
   "metadata": {
    "collapsed": false
   },
   "outputs": [
    {
     "name": "stdout",
     "output_type": "stream",
     "text": [
      "root\n",
      " |-- abstract_en: array (nullable = true)\n",
      " |    |-- element: string (containsNull = true)\n",
      " |-- abstract_fi: array (nullable = true)\n",
      " |    |-- element: string (containsNull = true)\n",
      " |-- abstract_sv: array (nullable = true)\n",
      " |    |-- element: string (containsNull = true)\n",
      " |-- authors: array (nullable = true)\n",
      " |    |-- element: string (containsNull = true)\n",
      " |-- collections: array (nullable = true)\n",
      " |    |-- element: string (containsNull = true)\n",
      " |-- date: array (nullable = true)\n",
      " |    |-- element: string (containsNull = true)\n",
      " |-- documents_url: array (nullable = true)\n",
      " |    |-- element: string (containsNull = true)\n",
      " |-- identifier: array (nullable = true)\n",
      " |    |-- element: string (containsNull = true)\n",
      " |-- keywords: array (nullable = true)\n",
      " |    |-- element: string (containsNull = true)\n",
      " |-- language: array (nullable = true)\n",
      " |    |-- element: string (containsNull = true)\n",
      " |-- organization: array (nullable = true)\n",
      " |    |-- element: string (containsNull = true)\n",
      " |-- orientation: array (nullable = true)\n",
      " |    |-- element: string (containsNull = true)\n",
      " |-- programme: array (nullable = true)\n",
      " |    |-- element: string (containsNull = true)\n",
      " |-- subjects: array (nullable = true)\n",
      " |    |-- element: string (containsNull = true)\n",
      " |-- titles: array (nullable = true)\n",
      " |    |-- element: string (containsNull = true)\n",
      " |-- url: array (nullable = true)\n",
      " |    |-- element: string (containsNull = true)\n",
      " |-- year: array (nullable = true)\n",
      " |    |-- element: string (containsNull = true)\n",
      " |-- year_clean: integer (nullable = true)\n",
      " |-- language_clean: string (nullable = true)\n",
      " |-- date_formatted: timestamp (nullable = true)\n",
      " |-- topics: array (nullable = true)\n",
      " |    |-- element: string (containsNull = true)\n",
      "\n"
     ]
    }
   ],
   "source": [
    "df_clean.printSchema()"
   ]
  },
  {
   "cell_type": "code",
   "execution_count": 18,
   "metadata": {
    "collapsed": false
   },
   "outputs": [
    {
     "data": {
      "text/plain": [
       "[(2008, 4),\n",
       " (2009, 22),\n",
       " (2010, 50),\n",
       " (2011, 25),\n",
       " (2012, 23),\n",
       " (2013, 61773),\n",
       " (2014, 18715),\n",
       " (2015, 11281)]"
      ]
     },
     "execution_count": 18,
     "metadata": {},
     "output_type": "execute_result"
    }
   ],
   "source": [
    "(df_clean.map(lambda row: (row.date_formatted.year, 1))\n",
    "        .reduceByKey(lambda a, b: a + b)\n",
    "        .collect()\n",
    ")"
   ]
  },
  {
   "cell_type": "code",
   "execution_count": 19,
   "metadata": {
    "collapsed": true
   },
   "outputs": [],
   "source": [
    "time = datetime.datetime.now()"
   ]
  },
  {
   "cell_type": "code",
   "execution_count": 20,
   "metadata": {
    "collapsed": false
   },
   "outputs": [
    {
     "name": "stdout",
     "output_type": "stream",
     "text": [
      "2013-08-21\n"
     ]
    }
   ],
   "source": [
    "print parse_date([u'2013-08-21T08:04:06Z']).date()"
   ]
  },
  {
   "cell_type": "code",
   "execution_count": 21,
   "metadata": {
    "collapsed": false
   },
   "outputs": [
    {
     "data": {
      "text/plain": [
       "datetime.date(2014, 5, 1)"
      ]
     },
     "execution_count": 21,
     "metadata": {},
     "output_type": "execute_result"
    }
   ],
   "source": [
    "datetime.date(2014, 5,1)"
   ]
  },
  {
   "cell_type": "markdown",
   "metadata": {},
   "source": [
    "# Plot number of submissions by date"
   ]
  },
  {
   "cell_type": "code",
   "execution_count": 22,
   "metadata": {
    "collapsed": false
   },
   "outputs": [],
   "source": [
    "import matplotlib.pyplot as plt\n",
    "%matplotlib inline"
   ]
  },
  {
   "cell_type": "code",
   "execution_count": 23,
   "metadata": {
    "collapsed": false
   },
   "outputs": [],
   "source": [
    "submissions_by_day = (df_clean.map(lambda row: (row.date_formatted.date(), 1))\n",
    "                              .reduceByKey(lambda a, b: a + b)\n",
    "                              .collect()\n",
    ")\n",
    "\n",
    "submissions_by_month = (df_clean.map(lambda row: (datetime.date(row.date_formatted.year, row.date_formatted.month, 1), 1))\n",
    "                              .reduceByKey(lambda a, b: a + b)\n",
    "                              .collect()\n",
    ")\n",
    "\n",
    "submissions_by_year = (df_clean.map(lambda row: (datetime.date(row.date_formatted.year, 1, 1), 1))\n",
    "                              .reduceByKey(lambda a, b: a + b)\n",
    "                              .collect()\n",
    ")"
   ]
  },
  {
   "cell_type": "code",
   "execution_count": 24,
   "metadata": {
    "collapsed": false
   },
   "outputs": [
    {
     "data": {
      "text/plain": [
       "<matplotlib.collections.LineCollection at 0x7fa3c2b95810>"
      ]
     },
     "execution_count": 24,
     "metadata": {},
     "output_type": "execute_result"
    },
    {
     "data": {
      "image/png": "[encoded data removed]",
      "text/plain": [
       "<matplotlib.figure.Figure at 0x7fa3c2ae8c50>"
      ]
     },
     "metadata": {},
     "output_type": "display_data"
    }
   ],
   "source": [
    "# Submissions by day\n",
    "submissions_by_day_sorted = sorted(submissions_by_day, key=lambda x: x[0])\n",
    "date, submissions = zip(*submissions_by_day_sorted)\n",
    "plt.vlines(date, 0, submissions)"
   ]
  },
  {
   "cell_type": "code",
   "execution_count": 25,
   "metadata": {
    "collapsed": false
   },
   "outputs": [
    {
     "data": {
      "text/plain": [
       "<matplotlib.collections.LineCollection at 0x7fa3c2b40750>"
      ]
     },
     "execution_count": 25,
     "metadata": {},
     "output_type": "execute_result"
    },
    {
     "data": {
      "image/png": "[encoded data removed]",
      "text/plain": [
       "<matplotlib.figure.Figure at 0x7fa3c2bae910>"
      ]
     },
     "metadata": {},
     "output_type": "display_data"
    }
   ],
   "source": [
    "# Submissions by month\n",
    "submissions_by_month_sorted = sorted(submissions_by_month, key=lambda x: x[0])\n",
    "date, submissions = zip(*submissions_by_month_sorted)\n",
    "plt.vlines(date, 0, submissions)"
   ]
  },
  {
   "cell_type": "code",
   "execution_count": 26,
   "metadata": {
    "collapsed": false
   },
   "outputs": [
    {
     "data": {
      "text/plain": [
       "<matplotlib.collections.LineCollection at 0x7fa3c29f3e10>"
      ]
     },
     "execution_count": 26,
     "metadata": {},
     "output_type": "execute_result"
    },
    {
     "data": {
      "image/png": "[encoded data removed]",
      "text/plain": [
       "<matplotlib.figure.Figure at 0x7fa3c2b7e1d0>"
      ]
     },
     "metadata": {},
     "output_type": "display_data"
    }
   ],
   "source": [
    "# Submissions by year\n",
    "submissions_by_year_sorted = sorted(submissions_by_year, key=lambda x: x)\n",
    "date, submissions = zip(*submissions_by_year_sorted)\n",
    "plt.vlines(date, 0, submissions)"
   ]
  },
  {
   "cell_type": "markdown",
   "metadata": {},
   "source": [
    "## Conclusions\n",
    "- Date field (date uploaded) and year field (academic year issued) distribution do not match. Based on date field we have more than 70% of thesis uploaded in 2013. I guess we should use the year field to evaluate trends.\n",
    "- There are more theses with no subjects (30,000) than with no keywords (11,000)\n",
    "- After combining keywords and subjects there are still 513 theses with no topic listed\n",
    "- Most important fields for analysis are:\n",
    "    - organization, program (where)\n",
    "    - topics (what)\n",
    "    - year (when)\n",
    "- The rest are considered thesis metadata"
   ]
  },
  {
   "cell_type": "markdown",
   "metadata": {
    "collapsed": true
   },
   "source": [
    "## TODO\n",
    "- Decide what to do with organization and programme fields, either use codes from collections field ('com_10024_256') or names and build a mapping between both\n",
    "- Set a clear schema for fields organization, program, topics and year and clean the data\n",
    "- Save the cleaned data to a new file"
   ]
  },
  {
   "cell_type": "code",
   "execution_count": null,
   "metadata": {
    "collapsed": true
   },
   "outputs": [],
   "source": []
  }
 ],
 "metadata": {
  "kernelspec": {
   "display_name": "Python 2",
   "language": "python",
   "name": "python2"
  },
  "language_info": {
   "codemirror_mode": {
    "name": "ipython",
    "version": 2
   },
   "file_extension": ".py",
   "mimetype": "text/x-python",
   "name": "python",
   "nbconvert_exporter": "python",
   "pygments_lexer": "ipython2",
   "version": "2.7.6"
  }
 },
 "nbformat": 4,
 "nbformat_minor": 0
}
