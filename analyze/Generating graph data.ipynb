{
 "cells": [
  {
   "cell_type": "code",
   "execution_count": 20,
   "metadata": {
    "collapsed": true
   },
   "outputs": [],
   "source": [
    "import json\n",
    "from itertools import product\n",
    "\n",
    "import pandas as pd\n",
    "import numpy as np\n",
    "from sklearn.preprocessing import MultiLabelBinarizer\n",
    "from sklearn.metrics import jaccard_similarity_score\n",
    "from sklearn.metrics.pairwise import pairwise_distances\n",
    "from scipy.spatial.distance import pdist, squareform\n",
    "import matplotlib.pyplot as plt\n",
    "\n",
    "%matplotlib inline"
   ]
  },
  {
   "cell_type": "code",
   "execution_count": 116,
   "metadata": {
    "collapsed": false
   },
   "outputs": [],
   "source": [
    "def jl_to_df(fname):\n",
    "    with open(fname) as f:\n",
    "        return pd.DataFrame([json.loads(line) for line in f])\n",
    "    \n",
    "def get_data_matrix(tags, M=100, sparse_output=True):\n",
    "    mlb = MultiLabelBinarizer(sparse_output=sparse_output)\n",
    "    X = mlb.fit_transform(tags[:M])\n",
    "    return mlb.classes_, X\n",
    "\n",
    "def get_most_common(labels, X, N=100):\n",
    "    # Sum columns\n",
    "    counts = X.sum(axis=0)\n",
    "    # Squeeze counts into 1 dimensional array\n",
    "    counts = np.squeeze(np.asarray(counts))\n",
    "    # Get indexes of most common popular labels\n",
    "    idxs = np.argsort(-counts)[:N]\n",
    "    return labels[idxs], X[:, idxs]\n",
    "\n",
    "def get_distance_matrix(X):\n",
    "    # Scipy pdist is much faster than sklearn pairwise_distances\n",
    "    d = pdist(X, 'jaccard')\n",
    "    # Return distances as a matrix\n",
    "    return squareform(d)\n",
    "    \n",
    "def get_distance_matrix2(X):\n",
    "    return pairwise_distances(\n",
    "        X,\n",
    "        metric=lambda x,y: 1 - jaccard_similarity_score(x,y)\n",
    "    )\n",
    "\n",
    "def format_nodes(labels, values):\n",
    "    return [{\"name\": label, \"value\": value} for label, value in zip(labels, values)]\n",
    "\n",
    "def format_links(d, minv, maxv):\n",
    "    # It is important to filter the values, otherwise\n",
    "    # most of them are 1 for labels that have no co-ocurrence\n",
    "    # or close 1 by chance.\n",
    "    # TODO: those values should be dynamically inferred.\n",
    "    idx = product(range(d.shape[0]), range(d.shape[1]))\n",
    "    return [{\"source\": i[0], \"target\": i[1] , \"value\": v}\n",
    "            for i, v in zip(idx, d.flatten()) if v > minv and v < maxv]\n",
    "\n",
    "def save_graph_data(d, labels, values, minv=0, maxv=1, out='data.json'):\n",
    "    data = {\n",
    "        \"nodes\": format_nodes(labels, values),\n",
    "        \"links\": format_links(d, minv, maxv)\n",
    "    }\n",
    "    with open(out, \"w\") as f:\n",
    "        f.write(json.dumps(data))"
   ]
  },
  {
   "cell_type": "code",
   "execution_count": 3,
   "metadata": {
    "collapsed": false
   },
   "outputs": [],
   "source": [
    "# Load data\n",
    "df = jl_to_df(\"../data/theses_dump_21-03-2017.json\")"
   ]
  },
  {
   "cell_type": "code",
   "execution_count": 130,
   "metadata": {
    "collapsed": false
   },
   "outputs": [],
   "source": [
    "# Get matrix representation\n",
    "labels, X = get_data_matrix(df[\"topics\"], M=120000)\n",
    "labels, X = get_most_common(labels, X, N=1000)\n",
    "X = X.toarray()\n",
    "values = X.sum(axis=0)"
   ]
  },
  {
   "cell_type": "code",
   "execution_count": 131,
   "metadata": {
    "collapsed": true
   },
   "outputs": [],
   "source": [
    "# Compute distances\n",
    "d = get_distance_matrix(X.T)"
   ]
  },
  {
   "cell_type": "code",
   "execution_count": 132,
   "metadata": {
    "collapsed": false
   },
   "outputs": [
    {
     "data": {
      "image/png": "[encoded data removed]",
      "text/plain": [
       "<matplotlib.figure.Figure at 0x7facb7f02850>"
      ]
     },
     "metadata": {},
     "output_type": "display_data"
    }
   ],
   "source": [
    "plt.hist(d.flatten(), bins=20, range=(0.1, 0.96))\n",
    "plt.show()"
   ]
  },
  {
   "cell_type": "code",
   "execution_count": 133,
   "metadata": {
    "collapsed": false
   },
   "outputs": [
    {
     "data": {
      "text/plain": [
       "(1000, 1000)"
      ]
     },
     "execution_count": 133,
     "metadata": {},
     "output_type": "execute_result"
    }
   ],
   "source": [
    "d.shape"
   ]
  },
  {
   "cell_type": "code",
   "execution_count": 134,
   "metadata": {
    "collapsed": false
   },
   "outputs": [
    {
     "data": {
      "text/plain": [
       "(1000,)"
      ]
     },
     "execution_count": 134,
     "metadata": {},
     "output_type": "execute_result"
    }
   ],
   "source": [
    "labels.shape"
   ]
  },
  {
   "cell_type": "code",
   "execution_count": 135,
   "metadata": {
    "collapsed": false
   },
   "outputs": [
    {
     "data": {
      "text/plain": [
       "(1000,)"
      ]
     },
     "execution_count": 135,
     "metadata": {},
     "output_type": "execute_result"
    }
   ],
   "source": [
    "values.shape"
   ]
  },
  {
   "cell_type": "code",
   "execution_count": 136,
   "metadata": {
    "collapsed": false
   },
   "outputs": [],
   "source": [
    "# Format data for graph\n",
    "save_graph_data(d, labels, values, minv=0, maxv=0.96, out='force-layout/data.json')"
   ]
  },
  {
   "cell_type": "code",
   "execution_count": null,
   "metadata": {
    "collapsed": true
   },
   "outputs": [],
   "source": []
  }
 ],
 "metadata": {
  "kernelspec": {
   "display_name": "Python 2",
   "language": "python",
   "name": "python2"
  },
  "language_info": {
   "codemirror_mode": {
    "name": "ipython",
    "version": 2
   },
   "file_extension": ".py",
   "mimetype": "text/x-python",
   "name": "python",
   "nbconvert_exporter": "python",
   "pygments_lexer": "ipython2",
   "version": "2.7.6"
  }
 },
 "nbformat": 4,
 "nbformat_minor": 1
}
