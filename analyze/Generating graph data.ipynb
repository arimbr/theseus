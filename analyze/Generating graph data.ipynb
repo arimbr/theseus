{
 "cells": [
  {
   "cell_type": "code",
   "execution_count": 1,
   "metadata": {
    "collapsed": true
   },
   "outputs": [],
   "source": [
    "import json\n",
    "from itertools import product\n",
    "\n",
    "import pandas as pd\n",
    "import numpy as np\n",
    "from sklearn.preprocessing import MultiLabelBinarizer\n",
    "from sklearn.metrics import jaccard_similarity_score\n",
    "from sklearn.metrics.pairwise import pairwise_distances\n",
    "from scipy.spatial.distance import pdist, squareform\n",
    "import matplotlib.pyplot as plt\n",
    "\n",
    "%matplotlib inline"
   ]
  },
  {
   "cell_type": "code",
   "execution_count": 3,
   "metadata": {
    "collapsed": false
   },
   "outputs": [],
   "source": [
    "def jl_to_df(fname):\n",
    "    with open(fname) as f:\n",
    "        return pd.DataFrame([json.loads(line) for line in f])\n",
    "    \n",
    "def filter_data(df, collection):\n",
    "    print(\"Filtering for collection: %s\" % collection)\n",
    "    return df[df['collections'].apply(lambda x: collection in x)]\n",
    "    \n",
    "def get_data_matrix(tags, M=None, sparse_output=True):\n",
    "    \"\"\"Returns binary matrix\"\"\"\n",
    "    print(\"Total number of elements: %d\" % len(tags))\n",
    "    if M is None:\n",
    "        M = len(tags)\n",
    "    mlb = MultiLabelBinarizer(sparse_output=sparse_output)\n",
    "    X = mlb.fit_transform(tags[:M])\n",
    "    print(\"Total numnber of classes: %d\" % len(mlb.classes_))\n",
    "    return mlb.classes_, X\n",
    "\n",
    "def get_most_common(labels, X, N=None, min_count=None):\n",
    "    if N is None:\n",
    "        N = X.shape[1]\n",
    "    # Sum columns\n",
    "    counts = X.sum(axis=0)\n",
    "    # Squeeze counts into 1 dimensional array\n",
    "    counts = np.squeeze(np.asarray(counts))\n",
    "    if min_count is not None:\n",
    "        N = len([count for count in counts if count >= min_count])        \n",
    "    # Get indexes of most common popular labels\n",
    "    idxs = np.argsort(-counts)[:N]\n",
    "    print(\"Considering only most popular classes: %d\" % len(idxs))\n",
    "    return labels[idxs], X[:, idxs]\n",
    "\n",
    "def get_distance_matrix(X):\n",
    "    # Scipy pdist is much faster than sklearn pairwise_distances\n",
    "    d = pdist(X, 'jaccard')\n",
    "    # Return distances as a matrix\n",
    "    return squareform(d)\n",
    "    \n",
    "def get_distance_matrix2(X):\n",
    "    return pairwise_distances(\n",
    "        X,\n",
    "        metric=lambda x,y: 1 - jaccard_similarity_score(x,y)\n",
    "    )\n",
    "\n",
    "def get_distance_sparse_matrix(X):\n",
    "    # It seems that pairwise distances only supports sparse matrices\n",
    "    # - From scikit-learn: ['cityblock', 'cosine', 'euclidean', 'l1', 'l2',\n",
    "    # 'manhattan']. These metrics support sparse matrix inputs.\n",
    "\n",
    "    return pairwise_distances(\n",
    "        X,\n",
    "        metric='cosine'\n",
    "    )\n",
    "\n",
    "def filter_distances(labels, values, d, maxv=0.95):\n",
    "    cap_values = np.vectorize(lambda x: 0 if x > maxv else x)\n",
    "    d = cap_values(d)\n",
    "    mask = d.sum(axis=0) > 0\n",
    "    d = d[mask,:][:,mask]\n",
    "    labels = labels[mask]\n",
    "    values = values[mask]\n",
    "    return labels, values, d\n",
    "\n",
    "def format_nodes(labels, values):\n",
    "    # TODO: should filer out nodes that have no connection\n",
    "    return [{\"name\": label, \"value\": value} for label, value in zip(labels, values)]\n",
    "\n",
    "def format_links(d, minv, maxv):\n",
    "    # It is important to filter the values, otherwise\n",
    "    # most of them are 1 for labels that have no co-ocurrence\n",
    "    # or close 1 by chance.\n",
    "    # TODO: those values should be dynamically inferred.\n",
    "    idx = product(range(d.shape[0]), range(d.shape[1]))\n",
    "    return [{\"source\": i[0], \"target\": i[1] , \"value\": v}\n",
    "            for i, v in zip(idx, d.flatten()) if v > minv and v < maxv]\n",
    "\n",
    "def save_graph_data(d, labels, values, minv=0, maxv=1, out='data.json'):\n",
    "    data = {\n",
    "        \"nodes\": format_nodes(labels, values),\n",
    "        \"links\": format_links(d, minv, maxv)\n",
    "    }\n",
    "    with open(out, \"w\") as f:\n",
    "        f.write(json.dumps(data))"
   ]
  },
  {
   "cell_type": "code",
   "execution_count": 4,
   "metadata": {
    "collapsed": false
   },
   "outputs": [],
   "source": [
    "# Load data\n",
    "df = jl_to_df(\"../data/theses_dump_21-03-2017.json\")"
   ]
  },
  {
   "cell_type": "code",
   "execution_count": 15,
   "metadata": {
    "collapsed": false
   },
   "outputs": [
    {
     "name": "stdout",
     "output_type": "stream",
     "text": [
      "Total number of elements: 116852\n",
      "Total numnber of classes: 142546\n",
      "Considering only most popular classes: 1072\n"
     ]
    },
    {
     "data": {
      "text/plain": [
       "(array([ 781.,  133.,   72.,   26.,   21.,    7.,    8.,    6.,    4.,\n",
       "           4.,    3.,    0.,    2.,    2.,    1.,    0.,    0.,    0.,\n",
       "           0.,    2.]),\n",
       " array([  100.  ,   269.95,   439.9 ,   609.85,   779.8 ,   949.75,\n",
       "         1119.7 ,  1289.65,  1459.6 ,  1629.55,  1799.5 ,  1969.45,\n",
       "         2139.4 ,  2309.35,  2479.3 ,  2649.25,  2819.2 ,  2989.15,\n",
       "         3159.1 ,  3329.05,  3499.  ]),\n",
       " <a list of 20 Patch objects>)"
      ]
     },
     "execution_count": 15,
     "metadata": {},
     "output_type": "execute_result"
    },
    {
     "data": {
      "image/png": "[encoded data removed]",
      "text/plain": [
       "<matplotlib.figure.Figure at 0x7faa2230ead0>"
      ]
     },
     "metadata": {},
     "output_type": "display_data"
    }
   ],
   "source": [
    "# Get matrix representation\n",
    "#df = filter_data(df, \"col_10024_238\")\n",
    "labels, X = get_data_matrix(df[\"topics\"])\n",
    "labels, X = get_most_common(labels, X, min_count=100)\n",
    "X = X.toarray()\n",
    "values = X.sum(axis=0)\n",
    "plt.hist(values, bins=20)"
   ]
  },
  {
   "cell_type": "code",
   "execution_count": 16,
   "metadata": {
    "collapsed": false
   },
   "outputs": [],
   "source": [
    "# Compute distances\n",
    "#d = get_distance_matrix(X.T)\n",
    "d = get_distance_sparse_matrix(X.T)"
   ]
  },
  {
   "cell_type": "code",
   "execution_count": 17,
   "metadata": {
    "collapsed": false
   },
   "outputs": [],
   "source": [
    "labels, values, d = filter_distances(labels, values, d, maxv=0.9)"
   ]
  },
  {
   "cell_type": "code",
   "execution_count": 8,
   "metadata": {
    "collapsed": false
   },
   "outputs": [
    {
     "data": {
      "image/png": "[encoded data removed]",
      "text/plain": [
       "<matplotlib.figure.Figure at 0x7fa9f6d9db50>"
      ]
     },
     "metadata": {},
     "output_type": "display_data"
    }
   ],
   "source": [
    "plt.hist(d.flatten(), bins=50, range=(0.1, 0.96))\n",
    "plt.show()"
   ]
  },
  {
   "cell_type": "code",
   "execution_count": 28,
   "metadata": {
    "collapsed": false
   },
   "outputs": [
    {
     "data": {
      "text/plain": [
       "(1057, 1057)"
      ]
     },
     "execution_count": 28,
     "metadata": {},
     "output_type": "execute_result"
    }
   ],
   "source": [
    "d.shape"
   ]
  },
  {
   "cell_type": "code",
   "execution_count": 29,
   "metadata": {
    "collapsed": false
   },
   "outputs": [
    {
     "data": {
      "text/plain": [
       "(1057,)"
      ]
     },
     "execution_count": 29,
     "metadata": {},
     "output_type": "execute_result"
    }
   ],
   "source": [
    "labels.shape"
   ]
  },
  {
   "cell_type": "code",
   "execution_count": 30,
   "metadata": {
    "collapsed": false
   },
   "outputs": [
    {
     "data": {
      "text/plain": [
       "(1057,)"
      ]
     },
     "execution_count": 30,
     "metadata": {},
     "output_type": "execute_result"
    }
   ],
   "source": [
    "values.shape"
   ]
  },
  {
   "cell_type": "code",
   "execution_count": 31,
   "metadata": {
    "collapsed": false
   },
   "outputs": [],
   "source": [
    "if len(values.shape) > 1:\n",
    "    values = np.squeeze(np.asarray(values))"
   ]
  },
  {
   "cell_type": "code",
   "execution_count": 18,
   "metadata": {
    "collapsed": false
   },
   "outputs": [],
   "source": [
    "# Format data for graph\n",
    "save_graph_data(d, labels, values, minv=0, maxv=0.9, out='force-layout/data.json')"
   ]
  },
  {
   "cell_type": "markdown",
   "metadata": {
    "collapsed": true
   },
   "source": [
    "## Degrees topics data"
   ]
  },
  {
   "cell_type": "code",
   "execution_count": 16,
   "metadata": {
    "collapsed": true
   },
   "outputs": [],
   "source": [
    "from sklearn.feature_extraction import DictVectorizer"
   ]
  },
  {
   "cell_type": "code",
   "execution_count": 51,
   "metadata": {
    "collapsed": false
   },
   "outputs": [],
   "source": [
    "df[\"degree\"] = df[\"degrees\"].apply(lambda x: x[0] if len(x) > 0 else \"\")\n",
    "degrees = df.groupby(\"degree\")['topics'].sum()"
   ]
  },
  {
   "cell_type": "code",
   "execution_count": 58,
   "metadata": {
    "collapsed": true
   },
   "outputs": [],
   "source": [
    "counts = degrees.apply(lambda x: pd.Series(x).value_counts().to_dict())"
   ]
  },
  {
   "cell_type": "code",
   "execution_count": 59,
   "metadata": {
    "collapsed": false
   },
   "outputs": [],
   "source": [
    "labels = degrees.index.values\n",
    "X = DictVectorizer().fit_transform(counts.values)\n"
   ]
  },
  {
   "cell_type": "code",
   "execution_count": 60,
   "metadata": {
    "collapsed": false
   },
   "outputs": [
    {
     "name": "stdout",
     "output_type": "stream",
     "text": [
      "Considering only most popular classes: 667\n"
     ]
    }
   ],
   "source": [
    "labels, X = get_most_common(degrees.index, X.T)"
   ]
  },
  {
   "cell_type": "code",
   "execution_count": 61,
   "metadata": {
    "collapsed": false
   },
   "outputs": [
    {
     "data": {
      "text/plain": [
       "(142546, 667)"
      ]
     },
     "execution_count": 61,
     "metadata": {},
     "output_type": "execute_result"
    }
   ],
   "source": [
    "X.shape"
   ]
  },
  {
   "cell_type": "code",
   "execution_count": 62,
   "metadata": {
    "collapsed": true
   },
   "outputs": [],
   "source": [
    "X = X.toarray()"
   ]
  },
  {
   "cell_type": "code",
   "execution_count": 63,
   "metadata": {
    "collapsed": false
   },
   "outputs": [
    {
     "data": {
      "image/png": "[encoded data removed]",
      "text/plain": [
       "<matplotlib.figure.Figure at 0x7fb148394110>"
      ]
     },
     "metadata": {},
     "output_type": "display_data"
    }
   ],
   "source": [
    "values = X.sum(axis=0)\n",
    "d = get_distance_sparse_matrix(X.T)\n",
    "plt.hist(d.flatten(), bins=50, range=(0.1, 0.96))\n",
    "plt.show()"
   ]
  },
  {
   "cell_type": "code",
   "execution_count": 66,
   "metadata": {
    "collapsed": true
   },
   "outputs": [],
   "source": [
    "labels, values, d = filter_distances(labels, values, d, maxv=0.8)\n",
    "save_graph_data(d, labels, values, minv=0, maxv=0.8, out='force-layout/degrees-data.json')"
   ]
  },
  {
   "cell_type": "code",
   "execution_count": null,
   "metadata": {
    "collapsed": true
   },
   "outputs": [],
   "source": []
  }
 ],
 "metadata": {
  "kernelspec": {
   "display_name": "Python 2",
   "language": "python",
   "name": "python2"
  },
  "language_info": {
   "codemirror_mode": {
    "name": "ipython",
    "version": 2
   },
   "file_extension": ".py",
   "mimetype": "text/x-python",
   "name": "python",
   "nbconvert_exporter": "python",
   "pygments_lexer": "ipython2",
   "version": "2.7.12"
  }
 },
 "nbformat": 4,
 "nbformat_minor": 1
}
